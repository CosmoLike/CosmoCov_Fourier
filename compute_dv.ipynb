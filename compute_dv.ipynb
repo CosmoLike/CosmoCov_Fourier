{
 "cells": [
  {
   "attachments": {},
   "cell_type": "markdown",
   "metadata": {},
   "source": [
    "Compute data vectors"
   ]
  },
  {
   "cell_type": "code",
   "execution_count": 1,
   "metadata": {},
   "outputs": [],
   "source": [
    "import numpy as np\n",
    "import pandas as pd\n",
    "import matplotlib.pyplot as plt\n",
    "from numpy import linalg as LA\n",
    "import sys\n",
    "import cosmolike_libs_LSSTxSO_10x2pt as clike\n",
    "import os\n",
    "import importlib"
   ]
  },
  {
   "cell_type": "code",
   "execution_count": 2,
   "metadata": {},
   "outputs": [],
   "source": [
    "ROMAN, ROMAN_WIDE=1, 0\n",
    "CMB_SO, CMB_S4 = 1, 0\n",
    "ONESAMPLE=0"
   ]
  },
  {
   "cell_type": "code",
   "execution_count": 3,
   "metadata": {},
   "outputs": [],
   "source": [
    "if (ROMAN):\n",
    "    if (CMB_SO):\n",
    "        full_fid_datav = 'datav/10x2pt_RomanxSO'\n",
    "    else:\n",
    "        full_fid_datav = 'datav/10x2pt_RomanxS4'\n",
    "if (ROMAN_WIDE):\n",
    "    if (CMB_SO):\n",
    "        full_fid_datav = 'datav/10x2pt_RomanWidexSO'\n",
    "    else:\n",
    "        full_fid_datav = 'datav/10x2pt_RomanWidexS4'\n",
    "\n",
    "if (ONESAMPLE):\n",
    "    full_fid_datav = full_fid_datav + '_1sample'\n",
    "    \n",
    "full_mask = full_fid_datav + '_mask.txt'"
   ]
  },
  {
   "cell_type": "code",
   "execution_count": 4,
   "metadata": {},
   "outputs": [
    {
     "data": {
      "text/plain": [
       "0"
      ]
     },
     "execution_count": 4,
     "metadata": {},
     "output_type": "execute_result"
    }
   ],
   "source": [
    "which_cmb = \"so_Y5\" # default\n",
    "# RomanxSO / S4\n",
    "if (ROMAN):\n",
    "    source_z='zdistri_WFIRST_LSST_lensing_fine_bin_norm'\n",
    "    lens_z='zdistri_WFIRST_LSST_clustering_fine_bin_norm'\n",
    "    sigma_z_shear=0.01\n",
    "    sigma_z_clustering=0.01\n",
    "    if (CMB_SO):\n",
    "        survey_designation=\"RomanxSO\"\n",
    "    else:\n",
    "        survey_designation=\"RomanxS4\"\n",
    "        which_cmb = \"s4\"\n",
    "    tomo_binning_source=\"source_std\"\n",
    "    tomo_binning_lens=\"WF_SN10\"\n",
    "    lmax_shear=4000.0\n",
    "\n",
    "# RomanWidexSO / S4\n",
    "if (ROMAN_WIDE):\n",
    "    source_z='zdistri_WFIRST_LSST_lensing_fine_bin_norm'\n",
    "    lens_z='zdistri_WFIRST_LSST_clustering_fine_bin_norm'\n",
    "    sigma_z_shear=0.02\n",
    "    sigma_z_clustering=0.02\n",
    "    if (CMB_SO):\n",
    "        survey_designation=\"RomanWidexSO\"\n",
    "    else:\n",
    "        survey_designation=\"RomanWidexS4\"\n",
    "        which_cmb = \"s4\"\n",
    "    tomo_binning_source=\"source_std\"\n",
    "    tomo_binning_lens=\"WF_SN10\"\n",
    "    lmax_shear=4000.0\n",
    "\n",
    "if (ONESAMPLE):\n",
    "    lens_z = source_z\n",
    "    sigma_z_clustering = sigma_z_shear\n",
    "    survey_designation = survey_designation + '_1sample'\n",
    "    tomo_binning_lens = \"lens=src\"\n",
    "\n",
    "file_source_z = os.path.join(clike.dirname, \"zdistris/\",source_z)\n",
    "file_lens_z = os.path.join(clike.dirname, \"zdistris/\",lens_z)\n",
    "\n",
    "#########\n",
    "## not used for datav, just placeholder - don't delete!!\n",
    "shear_prior=0.003\n",
    "delta_z_prior_shear=0.001\n",
    "delta_z_prior_clustering=0.001\n",
    "sigma_z_prior_shear=0.003\n",
    "sigma_z_prior_clustering=0.003\n",
    "nsource_table=51.0  \n",
    "nlens_table=66.0\n",
    "area_table=2000.0\n",
    "#########\n",
    "\n",
    "\n",
    "\n",
    "clike.initcosmo(\"halomodel\".encode('utf-8'))\n",
    "clike.initbins(25,20.0,7979.0,lmax_shear,21.0,10,10)\n",
    "\n",
    "clike.initpriors(shear_prior,sigma_z_shear,delta_z_prior_shear,sigma_z_prior_shear,sigma_z_clustering,delta_z_prior_clustering,sigma_z_prior_clustering)\n",
    "clike.initsurvey(survey_designation.encode('utf-8'),nsource_table,nlens_table,area_table)\n",
    "clike.initgalaxies(file_source_z.encode('utf-8'),file_lens_z.encode('utf-8'),\"gaussian\".encode('utf-8'),\"gaussian\".encode('utf-8'),tomo_binning_source.encode('utf-8'),tomo_binning_lens.encode('utf-8'))\n",
    "clike.initia(\"NLA_z\".encode('utf-8'),\"none\".encode('utf-8'))\n",
    "\n",
    "clike.initprobes(\"10x2pt\".encode('utf-8'))\n",
    "clike.initcmb(which_cmb.encode('utf-8'))\n",
    "clike.initfb(1)\n"
   ]
  },
  {
   "cell_type": "code",
   "execution_count": 5,
   "metadata": {},
   "outputs": [],
   "source": [
    "omega_m=0.3156\n",
    "sigma_8=0.831\n",
    "n_s=0.9645\n",
    "w0=-1.\n",
    "wa=0.0\n",
    "omega_b=0.0491685\n",
    "h0=0.6727\n",
    "MGSigma=MGmu=0\n",
    "icp = clike.InputCosmologyParams(omega_m,sigma_8,n_s,w0,wa,omega_b,h0,MGSigma,MGmu)\n",
    "\n",
    "inp = clike.InputNuisanceParams()\n",
    "\n",
    "if (ROMAN or ROMAN_WIDE): # Roman lens sample, gbias = 1.3 + 0.1*i, bin index i=0~9\n",
    "    inp.bias[:]=[1.3 + 0.1*i for i in range(10)]\n",
    "    if ROMAN:\n",
    "        inp.source_z_s=0.01\n",
    "        inp.lens_z_s=0.01\n",
    "        src_z_s_fid, lens_z_s_fid = 0.01, 0.01\n",
    "    else:\n",
    "        inp.source_z_s=0.02\n",
    "        inp.lens_z_s=0.02\n",
    "        src_z_s_fid, lens_z_s_fid = 0.02, 0.02\n",
    "        \n",
    "    if (ONESAMPLE): # gbias use gold sample formula\n",
    "        inp.lens_z_s=inp.source_z_s\n",
    "        lens_z_s_fid = src_z_s_fid\n",
    "        inp.bias[:]=[1.166664,1.403981,1.573795,1.744325,1.925937,2.131001,2.370211,2.651007,3.036247,4.556622]\n",
    "\n",
    "\n",
    "inp.source_z_bias[:]=[0 for _ in range(10)]\n",
    "inp.lens_z_bias[:]=[0 for _ in range(10)]\n",
    "inp.shear_m[:]=[0 for _ in range(10)]\n",
    "inp.A_ia=0.5\n",
    "inp.eta_ia=0.0\n",
    "inp.gas[:]=[1.17, 0.6, 14., 1., 0.03, 12.5, 1.2, 6.5, 0.752, 0., 0.]\n"
   ]
  },
  {
   "cell_type": "code",
   "execution_count": 6,
   "metadata": {},
   "outputs": [
    {
     "name": "stdout",
     "output_type": "stream",
     "text": [
      "data vector file created!\n"
     ]
    }
   ],
   "source": [
    "dv_filename = survey_designation+\"_fid\"\n",
    "clike.compute_data_vector(dv_filename.encode('utf-8'), icp, inp)\n",
    "print('data vector file created!')"
   ]
  },
  {
   "cell_type": "code",
   "execution_count": 8,
   "metadata": {},
   "outputs": [
    {
     "name": "stdout",
     "output_type": "stream",
     "text": [
      "N_shear=1375, N_3x2pt=2425, N_6x2pt=2950, N_10x2pt=3500, N_8x2pt=3225\n"
     ]
    }
   ],
   "source": [
    "datav = np.loadtxt('datav/10x2pt_'+dv_filename)[:,1]\n",
    "N_10x2pt = datav.size\n",
    "N_len = N_src = 10\n",
    "N_ell = 25\n",
    "N_ss = N_src * (N_src + 1) // 2\n",
    "N_shear = N_ss * N_ell\n",
    "N_6x2pt = N_10x2pt - (N_len + N_src + 2) * N_ell\n",
    "N_3x2pt = N_6x2pt - (N_len + N_src + 1) * N_ell\n",
    "N_8x2pt = N_10x2pt - (N_len + 1) * N_ell\n",
    "print(f'N_shear={N_shear}, N_3x2pt={N_3x2pt}, N_6x2pt={N_6x2pt}, N_10x2pt={N_10x2pt}, N_8x2pt={N_8x2pt}')"
   ]
  },
  {
   "cell_type": "code",
   "execution_count": null,
   "metadata": {},
   "outputs": [],
   "source": []
  }
 ],
 "metadata": {
  "kernelspec": {
   "display_name": "Python 3",
   "language": "python",
   "name": "python3"
  },
  "language_info": {
   "codemirror_mode": {
    "name": "ipython",
    "version": 3
   },
   "file_extension": ".py",
   "mimetype": "text/x-python",
   "name": "python",
   "nbconvert_exporter": "python",
   "pygments_lexer": "ipython3",
   "version": "3.8.0"
  },
  "vscode": {
   "interpreter": {
    "hash": "aee8b7b246df8f9039afb4144a1f6fd8d2ca17a180786b69acc140d282b71a49"
   }
  }
 },
 "nbformat": 4,
 "nbformat_minor": 2
}
